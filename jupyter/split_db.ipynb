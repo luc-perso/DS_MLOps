{
 "cells": [
  {
   "cell_type": "code",
   "execution_count": 13,
   "metadata": {},
   "outputs": [],
   "source": [
    "# for local use\n",
    "db_storage_path = '../storage/input/db'"
   ]
  },
  {
   "cell_type": "code",
   "execution_count": 14,
   "metadata": {},
   "outputs": [
    {
     "name": "stdout",
     "output_type": "stream",
     "text": [
      "The autoreload extension is already loaded. To reload it, use:\n",
      "  %reload_ext autoreload\n"
     ]
    }
   ],
   "source": [
    "import _mypath\n",
    "import os\n",
    "import numpy as np\n",
    "import pandas as pd\n",
    "import shutil\n",
    "\n",
    "%load_ext autoreload\n",
    "%autoreload 1"
   ]
  },
  {
   "cell_type": "code",
   "execution_count": 15,
   "metadata": {},
   "outputs": [],
   "source": [
    "%aimport database.path_origin_data\n",
    "%aimport database.dataset\n",
    "\n",
    "from database.path_origin_data import build_data_paths \n",
    "from database.path_origin_data import lung_name\n",
    "from database.path_origin_data import images_name\n"
   ]
  },
  {
   "cell_type": "code",
   "execution_count": 16,
   "metadata": {},
   "outputs": [],
   "source": [
    "# db\n",
    "db_name = 'data_equalize'\n",
    "db_path = os.path.join(db_storage_path, db_name)\n",
    "\n",
    "db_name1 = 'data_origin'\n",
    "db_path1 = os.path.join(db_storage_path, db_name1)\n",
    "db_name2 = 'data_add'\n",
    "db_path2 = os.path.join(db_storage_path, db_name2)\n",
    "\n",
    "# sampling\n",
    "sampling_rate = 0.8\n"
   ]
  },
  {
   "attachments": {},
   "cell_type": "markdown",
   "metadata": {},
   "source": [
    "Structure to manage paths in data base"
   ]
  },
  {
   "cell_type": "code",
   "execution_count": 17,
   "metadata": {},
   "outputs": [],
   "source": [
    "data_paths = build_data_paths()\n",
    "idx = pd.IndexSlice"
   ]
  },
  {
   "attachments": {},
   "cell_type": "markdown",
   "metadata": {},
   "source": [
    "Create tf Dataset"
   ]
  },
  {
   "cell_type": "code",
   "execution_count": 18,
   "metadata": {},
   "outputs": [],
   "source": [
    "paths = data_paths['path'].loc[idx[[lung_name], :, :, [images_name]]]\n",
    "\n",
    "file_paths = None\n",
    "for path in paths:\n",
    "    db_full_file_path = os.path.join(db_path, path)\n",
    "    db1_full_file_path = os.path.join(db_path1, path)\n",
    "    db2_full_file_path = os.path.join(db_path2, path)\n",
    "    # print(full_file_path)\n",
    "\n",
    "    if not os.path.exists(db1_full_file_path):\n",
    "        os.makedirs(db1_full_file_path, exist_ok=True)\n",
    "    if not os.path.exists(db2_full_file_path):\n",
    "        os.makedirs(db2_full_file_path, exist_ok=True)\n",
    "    \n",
    "    files = os.listdir(db_full_file_path)\n",
    "    for file in files:\n",
    "        file_path_in = os.path.join(db_full_file_path, file)\n",
    "        if np.random.uniform() < sampling_rate:\n",
    "            file_path_out = os.path.join(db1_full_file_path, file)\n",
    "        else:\n",
    "            file_path_out = os.path.join(db2_full_file_path, file)\n",
    "        \n",
    "        shutil.copyfile(file_path_in, file_path_out)\n",
    "        \n"
   ]
  }
 ],
 "metadata": {
  "kernelspec": {
   "display_name": "DS_MLOps-0EOZ04fs",
   "language": "python",
   "name": "python3"
  },
  "language_info": {
   "codemirror_mode": {
    "name": "ipython",
    "version": 3
   },
   "file_extension": ".py",
   "mimetype": "text/x-python",
   "name": "python",
   "nbconvert_exporter": "python",
   "pygments_lexer": "ipython3",
   "version": "3.10.11"
  },
  "orig_nbformat": 4
 },
 "nbformat": 4,
 "nbformat_minor": 2
}
